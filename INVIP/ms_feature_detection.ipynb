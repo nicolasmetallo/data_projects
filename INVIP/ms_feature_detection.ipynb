{
 "cells": [
  {
   "cell_type": "markdown",
   "metadata": {},
   "source": [
    "# **Project in*VIP***: *Electronic travel guides for the visually impaired*"
   ]
  },
  {
   "cell_type": "markdown",
   "metadata": {},
   "source": [
    "### NYU Prototyping Fund 2016"
   ]
  },
  {
   "cell_type": "markdown",
   "metadata": {},
   "source": [
    "> An ***Electronic Travel Aid*** for indoor navigation aimed at assisting individuals with a visual impairment. It provides: verbal description about their surroundings, face detection, information about location and tactile vibration for obstacle detection."
   ]
  },
  {
   "cell_type": "markdown",
   "metadata": {},
   "source": [
    "**Source:**\n",
    "- https://www.microsoft.com/cognitive-services/en-us/computer-vision-api/documentation\n",
    "- https://github.com/TusharChugh/SmartCap"
   ]
  },
  {
   "cell_type": "markdown",
   "metadata": {},
   "source": [
    "# Feature detection\n",
    "----------"
   ]
  },
  {
   "cell_type": "markdown",
   "metadata": {},
   "source": [
    "## Import Libraries\n",
    "----"
   ]
  },
  {
   "cell_type": "code",
   "execution_count": 135,
   "metadata": {
    "collapsed": true
   },
   "outputs": [],
   "source": [
    "from __future__ import print_function\n",
    "import time \n",
    "import requests\n",
    "import operator\n",
    "import numpy as np\n",
    "import csv\n",
    "from collections import defaultdict \n",
    "import signal\n",
    "from pygame import mixer\n",
    "from gtts import gTTS"
   ]
  },
  {
   "cell_type": "markdown",
   "metadata": {},
   "source": [
    "## Variables (Microsoft API)\n",
    "---"
   ]
  },
  {
   "cell_type": "code",
   "execution_count": 136,
   "metadata": {
    "collapsed": true
   },
   "outputs": [],
   "source": [
    "host = \"http://192.168.43.1:8080\"\n",
    "urlImage = 'http://' + host + '/photoaf.jpg'"
   ]
  },
  {
   "cell_type": "code",
   "execution_count": 137,
   "metadata": {
    "collapsed": false
   },
   "outputs": [],
   "source": [
    "_url_visual = 'https://api.projectoxford.ai/vision/v1.0/analyze'\n",
    "_key = '6c863d567f2a4a6b94b5fdcb11cc4bf1'\n",
    "_maxNumRetries = 10"
   ]
  },
  {
   "cell_type": "markdown",
   "metadata": {},
   "source": [
    "### Helper function to process the request to Microsoft API\n",
    "----\n",
    "\n",
    ">**Parameters:**\n",
    "\n",
    "- **json:** Used when processing images from its URL. See API Documentation\n",
    "- **data:** Used when processing image read from disk. See API Documentation\n",
    "- **headers:** Used to pass the key information and the data type request<"
   ]
  },
  {
   "cell_type": "markdown",
   "metadata": {},
   "source": [
    "To handle the SIGINT when CTRL+C is pressed"
   ]
  },
  {
   "cell_type": "code",
   "execution_count": 138,
   "metadata": {
    "collapsed": true
   },
   "outputs": [],
   "source": [
    "def exit_gracefully(signum,frame):\n",
    "    signal.signal(signal.SIGINT, original_sigint)\n",
    "    sys.exit(1)"
   ]
  },
  {
   "cell_type": "code",
   "execution_count": 139,
   "metadata": {
    "collapsed": true
   },
   "outputs": [],
   "source": [
    "def txtToMp3(text):\n",
    "    tts = gTTS(text = text, lang = 'en')\n",
    "    tts.save('output.mp3')"
   ]
  },
  {
   "cell_type": "code",
   "execution_count": 140,
   "metadata": {
    "collapsed": true
   },
   "outputs": [],
   "source": [
    "def tts():\n",
    "    mixer.init()\n",
    "    mixer.music.load('output.mp3')\n",
    "    mixer.music.play()"
   ]
  },
  {
   "cell_type": "code",
   "execution_count": 141,
   "metadata": {
    "collapsed": true
   },
   "outputs": [],
   "source": [
    "import httplib, urllib, base64\n",
    "\n",
    "def processRequest_visual(json, data, headers, params):\n",
    "\n",
    "    retries = 0\n",
    "    result = None\n",
    "\n",
    "    while True:\n",
    "\n",
    "        response = requests.request( 'post', _url_visual, json = json, data = data, \n",
    "                                    headers = headers, params = params )\n",
    "\n",
    "        if response.status_code == 429: \n",
    "\n",
    "            print( \"Message: %s\" % ( response.json()['error']['message'] ) )\n",
    "\n",
    "            if retries <= _maxNumRetries: \n",
    "                time.sleep(1) \n",
    "                retries += 1\n",
    "                continue\n",
    "            else: \n",
    "                print( 'Error: failed after retrying!' )\n",
    "                break\n",
    "\n",
    "        elif response.status_code == 200 or response.status_code == 201:\n",
    "\n",
    "            if 'content-length' in response.headers and int(response.headers['content-length']) == 0: \n",
    "                result = None \n",
    "            elif 'content-type' in response.headers and isinstance(response.headers['content-type'], str): \n",
    "                if 'application/json' in response.headers['content-type'].lower(): \n",
    "                    result = response.json() if response.content else None \n",
    "                elif 'image' in response.headers['content-type'].lower(): \n",
    "                    result = response.content\n",
    "        else:\n",
    "            print( \"Error code: %d\" % ( response.status_code ) )\n",
    "            print( \"Message: %s\" % ( response.json()['error']['message'] ) )\n",
    "\n",
    "        break\n",
    "        \n",
    "    return result"
   ]
  },
  {
   "cell_type": "code",
   "execution_count": 142,
   "metadata": {
    "collapsed": false
   },
   "outputs": [],
   "source": [
    "def getImageTag(data):\n",
    "    # Computer Vision parameters\n",
    "    params = {'visualFeatures': 'Description'}\n",
    "\n",
    "    headers = dict()\n",
    "    headers['Ocp-Apim-Subscription-Key'] = _key\n",
    "    headers['Content-Type'] = 'application/octet-stream'\n",
    "\n",
    "#     data = None\n",
    "#     json = { 'url': urlImage } \n",
    "    json = None\n",
    "\n",
    "    result_visual = processRequest_visual(json, data, headers, params) \n",
    "    \n",
    "    if result_visual is not None:\n",
    "        data8uint = np.fromstring(data, np.uint8)  # Convert string to an unsigned int array\n",
    "        print('Got Results !\\n')\n",
    "            #Get the description/tag\n",
    "        description = result_visual['description']['captions'][0]['text']\n",
    "        confidence = result_visual['description']['captions'][0]['confidence']\n",
    "        tags = result_visual['description']['tags']\n",
    "        print(result_visual,'\\n')\n",
    "\n",
    "        if description is not None:\n",
    "            columns = defaultdict(list)\n",
    "        \n",
    "            if (confidence > 0.9):\n",
    "                msg = \"I am pretty sure it is \"\n",
    "            elif ((confidence > 0.35) & (confidence < 0.9)):\n",
    "                msg = \"I think it is \"\n",
    "            else:\n",
    "                msg = \"I am not sure but I guess it is \"\n",
    "\n",
    "            awsstring = msg\n",
    "            awsstring += description\n",
    "        \n",
    "            if (len(tags) > 1):\n",
    "                awsstring += \". And the keywords are: \"\n",
    "                num_keywords = 5\n",
    "                for i in range(num_keywords):\n",
    "                    awsstring += tags[i]\n",
    "                    if i != num_keywords - 1:\n",
    "                        awsstring += ', '\n",
    "        else:\n",
    "            awsstring = \"I'm sorry but I can't understand what's in front of me\"\n",
    "        \n",
    "    return awsstring"
   ]
  },
  {
   "cell_type": "code",
   "execution_count": 143,
   "metadata": {
    "collapsed": true
   },
   "outputs": [],
   "source": [
    "#Saves the text to the file                \n",
    "def saveTextFile(text):\n",
    "    try:\n",
    "        print(text)\n",
    "        text_file = open(\"output.txt\",\"w+\")\n",
    "        text_file.write(text)\n",
    "        text_file.close()\t\t\t \n",
    "    except Exception, e:\n",
    "        print (\"Exception occured \\n\")\n",
    "        print (e)\n",
    "        pass "
   ]
  },
  {
   "cell_type": "code",
   "execution_count": 144,
   "metadata": {
    "collapsed": true
   },
   "outputs": [],
   "source": [
    "def run_main():\n",
    "    # Load raw image file into memory\n",
    "#     data = 'http://192.168.43.1:8080/photoaf.jpg'\n",
    "    pathToFileInDisk = r'photoaf.jpg'\n",
    "    with open(pathToFileInDisk, 'rb') as f:\n",
    "        data = f.read()\n",
    "        \n",
    "    #Get the tag\n",
    "    text = getImageTag(data)\n",
    "    \n",
    "    #Save the text in the file\n",
    "    saveTextFile(text)\n",
    "    \n",
    "    #Save the text in an mp3 file and play it\n",
    "    txtToMp3(text)\n",
    "    tts()"
   ]
  },
  {
   "cell_type": "code",
   "execution_count": 145,
   "metadata": {
    "collapsed": false,
    "scrolled": true
   },
   "outputs": [
    {
     "name": "stdout",
     "output_type": "stream",
     "text": [
      "Got Results !\n",
      "\n",
      "{u'metadata': {u'width': 1280, u'format': u'Jpeg', u'height': 720}, u'description': {u'captions': [{u'text': u'a man holding a camera', u'confidence': 0.32651261709686724}], u'tags': [u'person', u'man', u'holding', u'standing', u'camera', u'hand', u'smiling', u'young', u'wearing', u'woman', u'glasses', u'food', u'phone', u'shirt', u'people', u'plane', u'hat', u'room', u'white']}, u'requestId': u'7b812186-77e6-417f-a8b8-3115b52848c5'} \n",
      "\n",
      "I am not sure but I guess it is a man holding a camera. And the keywords are: person, man, holding, standing, camera\n"
     ]
    }
   ],
   "source": [
    "if __name__ == '__main__':\n",
    "    original_sigint = signal.getsignal(signal.SIGINT)\n",
    "    signal.signal(signal.SIGINT,exit_gracefully)\n",
    "    run_main()"
   ]
  },
  {
   "cell_type": "markdown",
   "metadata": {},
   "source": [
    "# ---------------------------------------"
   ]
  }
 ],
 "metadata": {
  "anaconda-cloud": {},
  "kernelspec": {
   "display_name": "Python [Root]",
   "language": "python",
   "name": "Python [Root]"
  },
  "language_info": {
   "codemirror_mode": {
    "name": "ipython",
    "version": 2
   },
   "file_extension": ".py",
   "mimetype": "text/x-python",
   "name": "python",
   "nbconvert_exporter": "python",
   "pygments_lexer": "ipython2",
   "version": "2.7.12"
  },
  "widgets": {
   "state": {},
   "version": "1.1.2"
  }
 },
 "nbformat": 4,
 "nbformat_minor": 0
}
