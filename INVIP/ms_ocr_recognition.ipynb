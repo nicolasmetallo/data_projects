{
 "cells": [
  {
   "cell_type": "markdown",
   "metadata": {},
   "source": [
    "### NYU Prototyping Fund 2016"
   ]
  },
  {
   "cell_type": "markdown",
   "metadata": {},
   "source": [
    "> An ***Electronic Travel Aid*** for indoor navigation aimed at assisting individuals with a visual impairment. It provides: verbal description about their surroundings, face detection, information about location and tactile vibration for obstacle detection."
   ]
  },
  {
   "cell_type": "markdown",
   "metadata": {},
   "source": [
    "**Source:**\n",
    "- https://www.microsoft.com/cognitive-services/en-us/computer-vision-api/documentation\n",
    "- https://github.com/TusharChugh/SmartCap\n",
    "- https://dev.projectoxford.ai/docs/services/56f91f2d778daf23d8ec6739/operations/56f91f2e778daf14a499e1fc"
   ]
  },
  {
   "cell_type": "markdown",
   "metadata": {},
   "source": [
    "# OCR recognition\n",
    "----------"
   ]
  },
  {
   "cell_type": "markdown",
   "metadata": {},
   "source": [
    "## Import Libraries\n",
    "----"
   ]
  },
  {
   "cell_type": "code",
   "execution_count": 111,
   "metadata": {
    "collapsed": false
   },
   "outputs": [],
   "source": [
    "from __future__ import print_function\n",
    "import time \n",
    "import requests\n",
    "import operator\n",
    "import numpy as np\n",
    "import csv\n",
    "from collections import defaultdict \n",
    "import signal\n",
    "import httplib, urllib, base64\n",
    "import unicodedata\n",
    "from pygame import mixer\n",
    "from gtts import gTTS"
   ]
  },
  {
   "cell_type": "markdown",
   "metadata": {},
   "source": [
    "## Variables (Microsoft API)\n",
    "---"
   ]
  },
  {
   "cell_type": "code",
   "execution_count": 112,
   "metadata": {
    "collapsed": false
   },
   "outputs": [],
   "source": [
    "_url_ocr = 'https://api.projectoxford.ai/vision/v1.0/ocr?%s'\n",
    "_key = 'ec06a13cf3ee490787943f28dd968144'\n",
    "_maxNumRetries = 10"
   ]
  },
  {
   "cell_type": "markdown",
   "metadata": {},
   "source": [
    "### Helper function to process the request to Microsoft API\n",
    "----\n",
    "\n",
    ">**Parameters:**\n",
    "\n",
    "- **json:** Used when processing images from its URL. See API Documentation\n",
    "- **data:** Used when processing image read from disk. See API Documentation\n",
    "- **headers:** Used to pass the key information and the data type request<"
   ]
  },
  {
   "cell_type": "markdown",
   "metadata": {},
   "source": [
    "To handle the SIGINT when CTRL+C is pressed"
   ]
  },
  {
   "cell_type": "code",
   "execution_count": 113,
   "metadata": {
    "collapsed": true
   },
   "outputs": [],
   "source": [
    "def exit_gracefully(signum,frame):\n",
    "    signal.signal(signal.SIGINT, original_sigint)\n",
    "    sys.exit(1)"
   ]
  },
  {
   "cell_type": "code",
   "execution_count": 114,
   "metadata": {
    "collapsed": true
   },
   "outputs": [],
   "source": [
    "def txtToMp3(text):\n",
    "\n",
    "    tts = gTTS(text = text, lang = 'en')\n",
    "    tts.save('output.mp3')"
   ]
  },
  {
   "cell_type": "code",
   "execution_count": 115,
   "metadata": {
    "collapsed": true
   },
   "outputs": [],
   "source": [
    "def tts():\n",
    "    mixer.init()\n",
    "    mixer.music.load('output.mp3')\n",
    "    mixer.music.play()"
   ]
  },
  {
   "cell_type": "code",
   "execution_count": 116,
   "metadata": {
    "collapsed": true
   },
   "outputs": [],
   "source": [
    "def processRequest_ocr( json, data, headers, params ):\n",
    "\n",
    "    retries = 0\n",
    "    result = None\n",
    "\n",
    "    while True:\n",
    "\n",
    "        response = requests.request( 'post', _url_ocr, json = json, data = data, \n",
    "                                    headers = headers, params = params )\n",
    "\n",
    "        if response.status_code == 429: \n",
    "\n",
    "            print( \"Message: %s\" % ( response.json()['error']['message'] ) )\n",
    "\n",
    "            if retries <= _maxNumRetries: \n",
    "                time.sleep(1) \n",
    "                retries += 1\n",
    "                continue\n",
    "            else: \n",
    "                print( 'Error: failed after retrying!' )\n",
    "                break\n",
    "\n",
    "        elif response.status_code == 200 or response.status_code == 201:\n",
    "\n",
    "            if 'content-length' in response.headers and int(response.headers['content-length']) == 0: \n",
    "                result = None \n",
    "            elif 'content-type' in response.headers and isinstance(response.headers['content-type'], str): \n",
    "                if 'application/json' in response.headers['content-type'].lower(): \n",
    "                    result = response.json() if response.content else None \n",
    "                elif 'image' in response.headers['content-type'].lower(): \n",
    "                    result = response.content\n",
    "        else:\n",
    "            print( \"Error code: %d\" % ( response.status_code ) )\n",
    "            print( \"Message: %s\" % ( response.json()['error']['message'] ) )\n",
    "\n",
    "        break\n",
    "        \n",
    "    return result"
   ]
  },
  {
   "cell_type": "code",
   "execution_count": 117,
   "metadata": {
    "collapsed": false
   },
   "outputs": [],
   "source": [
    "def getOCR(data):\n",
    "    params = urllib.urlencode({'language': 'unk','detectOrientation ': 'true',})\n",
    "    headers = dict()\n",
    "    headers['Ocp-Apim-Subscription-Key'] = _key\n",
    "    headers['Content-Type'] = 'application/octet-stream'\n",
    "\n",
    "    json = None\n",
    "\n",
    "    result_ocr = processRequest_ocr(json, data, headers, params) \n",
    "    \n",
    "    if result_ocr is not None:\n",
    "        \n",
    "        result = 'I think the text reads: \\n'\n",
    "        for region in result_ocr['regions']:\n",
    "            for line in region['lines']:\n",
    "                for word in line['words']:\n",
    "                    result += word['text'] + ' '\n",
    "            result += '\\n'\n",
    "        \n",
    "    return result"
   ]
  },
  {
   "cell_type": "code",
   "execution_count": 118,
   "metadata": {
    "collapsed": true
   },
   "outputs": [],
   "source": [
    "def saveTextFile(text):\n",
    "    remap = {ord('\\t'): ' ', ord('\\f'): ' ', ord('\\r'): None}\n",
    "    a = text.translate(remap)\n",
    "    b = unicodedata.normalize('NFD',a)\n",
    "    c = b.encode('ascii','ignore').decode('ascii')\n",
    "    try:\n",
    "        print(c)\n",
    "        text_file = open(\"output_ocr.txt\",\"w+\")\n",
    "        text_file.write(c)\n",
    "        text_file.close()\t\t\t \n",
    "    except Exception, e:\n",
    "        print (\"Exception occured \\n\")\n",
    "        print (e)\n",
    "        pass"
   ]
  },
  {
   "cell_type": "code",
   "execution_count": 119,
   "metadata": {
    "collapsed": true
   },
   "outputs": [],
   "source": [
    "def run_main():\n",
    "    # Load raw image file into memory\n",
    "    hostsvr = ''\n",
    "    pathToFileInDisk = r'photoaf.jpg'\n",
    "#     pathToFileInDisk = r'' + hostsvr + 'photo.jpg'\n",
    "    \n",
    "    with open(pathToFileInDisk, 'rb') as f:\n",
    "        data = f.read()\n",
    "        \n",
    "    #Get the tag\n",
    "    text = getOCR(data)\n",
    "    \n",
    "    #Save the text in the file\n",
    "    saveTextFile(text)\n",
    "    \n",
    "    #Save the text in an mp3 file and play it\n",
    "    txtToMp3(text)\n",
    "    tts()"
   ]
  },
  {
   "cell_type": "code",
   "execution_count": 120,
   "metadata": {
    "collapsed": false,
    "scrolled": false
   },
   "outputs": [
    {
     "name": "stdout",
     "output_type": "stream",
     "text": [
      "I think the text reads: \n",
      "the Website: erytrereneurnvuerJu Twitter: ro NYUEntrcpreneur GREEN HOUSE The Greenhouse at the School of Engineering provides flexible work and meeting space, and serves the NYU community in the heart of Brooklyn's Tech Triangle. 6 Metro Tech Center at NYU-Poly The space is a blank slate for creative thinkers With occasional talks. skill shares. and opportunities to meet With professionals and mentors. Website: areenhousestonescom Twitter: (o GreenhousePoly \n",
      "\n"
     ]
    }
   ],
   "source": [
    "if __name__ == '__main__':\n",
    "    original_sigint = signal.getsignal(signal.SIGINT)\n",
    "    signal.signal(signal.SIGINT,exit_gracefully)\n",
    "    run_main()"
   ]
  },
  {
   "cell_type": "markdown",
   "metadata": {},
   "source": [
    "# ---------------------------------------"
   ]
  }
 ],
 "metadata": {
  "anaconda-cloud": {},
  "kernelspec": {
   "display_name": "Python [Root]",
   "language": "python",
   "name": "Python [Root]"
  },
  "language_info": {
   "codemirror_mode": {
    "name": "ipython",
    "version": 2
   },
   "file_extension": ".py",
   "mimetype": "text/x-python",
   "name": "python",
   "nbconvert_exporter": "python",
   "pygments_lexer": "ipython2",
   "version": "2.7.12"
  },
  "widgets": {
   "state": {},
   "version": "1.1.2"
  }
 },
 "nbformat": 4,
 "nbformat_minor": 0
}
